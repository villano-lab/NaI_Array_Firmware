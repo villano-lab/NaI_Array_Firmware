{
 "cells": [
  {
   "cell_type": "code",
   "execution_count": 1,
   "id": "e33d08b4-e531-44bc-ac0c-bcd904ba0b88",
   "metadata": {
    "tags": []
   },
   "outputs": [
    {
     "data": {
      "image/png": "[encoded data removed]",
      "text/plain": [
       "<Figure size 640x480 with 1 Axes>"
      ]
     },
     "metadata": {},
     "output_type": "display_data"
    }
   ],
   "source": [
    "import numpy as np\n",
    "import matplotlib.pyplot as plt\n",
    "\n",
    "f = open(r\"C:\\Users\\hellmala\\Desktop\\stuff\\DIG\\digtest13\")\n",
    "a = np.fromfile(f, dtype=np.uint32)\n",
    "\n",
    "state = 0\n",
    "wave_len = 3000/2  # NUMBER OF SAMPLES (MUST BE DIVIDED BY 2 WHEN ONLY 1 CHANNEL IS ENABLE)\n",
    "idx = 0\n",
    "ch0 = []\n",
    "filler_size = 1\n",
    "\n",
    "for x in a:\n",
    "    if state == 0:\n",
    "        if x == 0xFFFFFFFF:\n",
    "            state = 1\n",
    "            start_counter = 0\n",
    "            hits = 0\n",
    "            user = 0\n",
    "            ts = 0\n",
    "            filler_cnt = filler_size\n",
    "            wavec = wave_len\n",
    "        else:\n",
    "            print(\"DECODE ERROR\")\n",
    "    elif state == 1:\n",
    "        ts = x\n",
    "        state = 2\n",
    "    elif state == 2:\n",
    "        ts += x << 32\n",
    "        state = 3\n",
    "    elif state == 3:\n",
    "        start_counter = x\n",
    "        state = 4\n",
    "    elif state == 4:\n",
    "        hits = x\n",
    "        state = 5\n",
    "    elif state == 5:\n",
    "        hits += x << 32\n",
    "        state = 6\n",
    "    elif state == 6:\n",
    "        user = x\n",
    "        if filler_cnt > 0:\n",
    "            state = 7\n",
    "        else:\n",
    "            state = 8\n",
    "    elif state == 7:\n",
    "        filler_cnt = filler_cnt - 1\n",
    "        if filler_cnt == 0:\n",
    "            state = 8\n",
    "    elif state == 8:\n",
    "        if wavec == 1:\n",
    "            state = 0\n",
    "        else:\n",
    "            ch0.append(x & 0xFFFF)\n",
    "            ch0.append((x >> 16) & 0xFFFF)\n",
    "            wavec = wavec - 1\n",
    "        idx = idx + 1\n",
    "\n",
    "fig, axes = plt.subplots(nrows=1, ncols=1)\n",
    "axes.plot(ch0)\n",
    "plt.show()\n"
   ]
  },
  {
   "cell_type": "code",
   "execution_count": null,
   "id": "da6f2e84-dfee-4b14-be23-6dc821bd7495",
   "metadata": {},
   "outputs": [],
   "source": []
  }
 ],
 "metadata": {
  "kernelspec": {
   "display_name": "Python 3 (ipykernel)",
   "language": "python",
   "name": "python3"
  },
  "language_info": {
   "codemirror_mode": {
    "name": "ipython",
    "version": 3
   },
   "file_extension": ".py",
   "mimetype": "text/x-python",
   "name": "python",
   "nbconvert_exporter": "python",
   "pygments_lexer": "ipython3",
   "version": "3.11.5"
  }
 },
 "nbformat": 4,
 "nbformat_minor": 5
}
